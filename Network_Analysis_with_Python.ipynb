{
  "cells": [
    {
      "cell_type": "markdown",
      "metadata": {
        "id": "view-in-github",
        "colab_type": "text"
      },
      "source": [
        "<a href=\"https://colab.research.google.com/github/hernanmorales-navarrete/DataAnalysisWithPython/blob/main/Network_Analysis_with_Python.ipynb\" target=\"_parent\"><img src=\"https://colab.research.google.com/assets/colab-badge.svg\" alt=\"Open In Colab\"/></a>"
      ]
    },
    {
      "cell_type": "markdown",
      "metadata": {
        "id": "Qb1SxJiX4m3Z"
      },
      "source": [
        "# Network Analysis with Python\n"
      ]
    },
    {
      "cell_type": "markdown",
      "metadata": {
        "id": "2UuZ2SPX4m3b"
      },
      "source": [
        "- This interactive Jupyter Notebook provides a hands-on guide to Social Network Analysis using Python and NetworkX. Through real examples and exercises, students will explore graph theory concepts, data importation, network visualization, centrality measures, structural analysis, path analysis, resilience assessment, and community detection. This notebook engages students in understanding the relationships and patterns within GitHub organizations' networks, fostering skills in data transformation, algorithm implementation, and advanced network analytics."
      ]
    },
    {
      "cell_type": "markdown",
      "metadata": {
        "id": "DEQJHsrK4m3b"
      },
      "source": [
        "## Import necessary libraries\n"
      ]
    },
    {
      "cell_type": "code",
      "execution_count": null,
      "metadata": {
        "id": "AvbdDdhd4m3c"
      },
      "outputs": [],
      "source": [
        "import pandas as pd\n",
        "import networkx as nx\n",
        "import matplotlib.pyplot as plt\n",
        "import random\n",
        "from networkx.algorithms import bipartite\n",
        "from networkx.algorithms.centrality import degree_centrality, closeness_centrality, betweenness_centrality, eigenvector_centrality\n"
      ]
    },
    {
      "cell_type": "markdown",
      "source": [
        "## 1. Load the dataset"
      ],
      "metadata": {
        "id": "9dIb270hhL5l"
      }
    },
    {
      "cell_type": "code",
      "source": [
        "# Load the dataset from CSV, remove any rows where members are missing\n",
        "\n",
        "full_data = pd.read_csv('/content/data_nets.csv')  # Adjust the path to your dataset\n",
        "full_data.dropna(subset=['member'], inplace=True)  # Remove rows where member is None\n",
        "\n",
        "# Set a seed for reproducibility and randomly select 100 rows\n",
        "data = full_data.sample(n=100, random_state=2)\n",
        "\n",
        "\n",
        "display(data)"
      ],
      "metadata": {
        "id": "xW0cdOtkeT2p"
      },
      "execution_count": null,
      "outputs": []
    },
    {
      "cell_type": "markdown",
      "metadata": {
        "id": "jP37PElt4m3d"
      },
      "source": [
        "## 2. Create a Bipartite Graph"
      ]
    },
    {
      "cell_type": "code",
      "source": [
        "# Bipartite Graph Creation: Create a bipartite graph with organizations and members.\n",
        "B = nx.Graph()\n",
        "B.add_nodes_from(data['Organisation'].unique(), bipartite=0)  # Add organizations as one set of nodes\n",
        "B.add_nodes_from(data['member'].unique(), bipartite=1)  # Add members as the other set of nodes\n",
        "\n",
        "# Add edges between organizations and members\n",
        "for index, row in data.iterrows():\n",
        "    B.add_edge(row['Organisation'], row['member'])"
      ],
      "metadata": {
        "id": "L1myc6xyG7m9"
      },
      "execution_count": null,
      "outputs": []
    },
    {
      "cell_type": "markdown",
      "metadata": {
        "id": "U_WlyLiY4m3e"
      },
      "source": [
        "\n",
        "## 3. Visualize the Network\n"
      ]
    },
    {
      "cell_type": "code",
      "execution_count": null,
      "metadata": {
        "id": "FFZFTiJd4m3f"
      },
      "outputs": [],
      "source": [
        "# Use NetworkX's draw function to visualize the network.\n",
        "\n",
        "plt.figure(figsize=(25, 25))\n",
        "# Generate positions for nodes using the spring layout, which places nodes based on a force-directed algorithm\n",
        "pos = nx.spring_layout(B)\n",
        "# Draw the graph with specified positions, enabling labels for nodes, and setting node and font sizes\n",
        "nx.draw(B, pos, with_labels=True, node_size=10, font_size=5)\n",
        "# Add a title to the plot for context\n",
        "plt.title(\"GitHub Organizations Network\")\n",
        "plt.show()\n"
      ]
    },
    {
      "cell_type": "markdown",
      "metadata": {
        "id": "dJks-M424m3f"
      },
      "source": [
        "## 4. Structural Analysis and Properties"
      ]
    },
    {
      "cell_type": "code",
      "source": [
        "# Calculate Degree Centrality\n",
        "deg_centrality = degree_centrality(B)\n",
        "print(\"Degree Centrality:\", deg_centrality)"
      ],
      "metadata": {
        "id": "BQCrnf8EbpfN"
      },
      "execution_count": null,
      "outputs": []
    },
    {
      "cell_type": "code",
      "source": [
        "# Calculate Closeness Centrality\n",
        "closeness = closeness_centrality(B)\n",
        "print(\"Closeness Centrality:\", closeness)"
      ],
      "metadata": {
        "id": "B7O3h6uWjvkY"
      },
      "execution_count": null,
      "outputs": []
    },
    {
      "cell_type": "code",
      "source": [
        "# Calculate Betweenness Centrality\n",
        "betweenness = betweenness_centrality(B)\n",
        "print(\"Betweenness Centrality:\", betweenness)"
      ],
      "metadata": {
        "id": "xVCm_jWBjx-K"
      },
      "execution_count": null,
      "outputs": []
    },
    {
      "cell_type": "code",
      "source": [
        "# Calculate Eigenvector Centrality\n",
        "eigenvector = eigenvector_centrality(B)\n",
        "print(\"Eigenvector Centrality:\", eigenvector)"
      ],
      "metadata": {
        "id": "r84E4LoEj2k5"
      },
      "execution_count": null,
      "outputs": []
    },
    {
      "cell_type": "code",
      "source": [
        "# Identify Connected Components\n",
        "connected_components = list(nx.connected_components(B))\n",
        "print(\"Connected Components:\", connected_components)"
      ],
      "metadata": {
        "id": "yoZfDAk8j6e0"
      },
      "execution_count": null,
      "outputs": []
    },
    {
      "cell_type": "markdown",
      "metadata": {
        "id": "NY845H9wk8w9"
      },
      "source": [
        "\n",
        "## 6. Community Detection"
      ]
    },
    {
      "cell_type": "code",
      "source": [
        "# Use algorithms like Girvan-Newman or Louvain for community detection\n",
        "from networkx.algorithms.community import girvan_newman\n",
        "communities = next(girvan_newman(B))\n",
        "print(\"Detected Communities:\", communities)\n",
        "print(\"Detected Communities:\", len(communities))"
      ],
      "metadata": {
        "id": "bqI19OnDkz-Z"
      },
      "execution_count": null,
      "outputs": []
    },
    {
      "cell_type": "code",
      "source": [
        "# Visualize Communities\n",
        "plt.figure(figsize=(25, 25))\n",
        "colors = ['red', 'blue', 'green', 'yellow']\n",
        "for i, community in enumerate(communities):\n",
        "    nx.draw_networkx_nodes(B, pos, nodelist=list(community), node_color=colors[i % len(colors)], node_size=20)\n",
        "nx.draw_networkx_edges(B, pos, alpha=0.5)\n",
        "plt.title(\"Communities in GitHub Organizations Network\")\n",
        "plt.show()"
      ],
      "metadata": {
        "id": "F9mxPjKhlG2r"
      },
      "execution_count": null,
      "outputs": []
    },
    {
      "cell_type": "markdown",
      "metadata": {
        "id": "l23334cUpVU8"
      },
      "source": [
        "\n",
        "## 5. Resilience and Robustness"
      ]
    },
    {
      "cell_type": "code",
      "execution_count": null,
      "metadata": {
        "id": "gyzAGGvg4m3g"
      },
      "outputs": [],
      "source": [
        "# Analyze network resilience by removing nodes or edges and observing changes in connectivity\n",
        "original_components = nx.number_connected_components(B)\n",
        "print(\"Original number of connected components:\", original_components)"
      ]
    },
    {
      "cell_type": "code",
      "source": [
        "# Remove random nodes or edges and recheck components\n",
        "B1 = B.copy()\n",
        "B1.remove_node(data['member'].iloc[0])  # Removing a sample node for demonstration\n",
        "new_components = nx.number_connected_components(B1)\n",
        "print(\"New number of connected components after removal:\", new_components)\n"
      ],
      "metadata": {
        "id": "IPdea2p4kMB9"
      },
      "execution_count": null,
      "outputs": []
    },
    {
      "cell_type": "code",
      "source": [
        "# Set the number of nodes to remove for robustness analysis\n",
        "\n",
        "random.seed(10)\n",
        "num_nodes_to_remove = 10\n",
        "\n",
        "# Make a copy of the original graph to preserve it\n",
        "B_copy = B.copy()\n",
        "\n",
        "# Initial number of connected components in the copied graph before any removals\n",
        "initial_components = nx.number_connected_components(B_copy)\n",
        "print(\"Initial number of connected components:\", initial_components)\n",
        "\n",
        "# Select random nodes from the 'member' set to remove\n",
        "random_nodes = random.sample(list(data['Organisation'].dropna().unique()), num_nodes_to_remove)\n",
        "\n",
        "# Remove each node one by one from the copied graph and track the number of connected components\n",
        "for i, node in enumerate(random_nodes, start=1):\n",
        "    B_copy.remove_node(node)  # Remove the node from the copy\n",
        "    current_components = nx.number_connected_components(B_copy)  # Count connected components after removal\n",
        "    print(f\"After removing {i} node(s), number of connected components:\", current_components)\n",
        "\n",
        "# Summary: measure the change in the number of connected components\n",
        "print(\"Total increase in connected components after removals:\", current_components - initial_components)\n",
        "\n",
        "\n",
        "\n",
        "plt.figure(figsize=(25, 25))\n",
        "# Generate positions for nodes using the spring layout, which places nodes based on a force-directed algorithm\n",
        "pos = nx.spring_layout(B_copy)\n",
        "# Draw the graph with specified positions, enabling labels for nodes, and setting node and font sizes\n",
        "nx.draw(B_copy, pos, with_labels=True, node_size=10, font_size=5)\n",
        "# Add a title to the plot for context\n",
        "plt.title(\"GitHub Organizations Network\")\n",
        "plt.show()"
      ],
      "metadata": {
        "id": "SiWEVJ8Slv8n"
      },
      "execution_count": null,
      "outputs": []
    }
  ],
  "metadata": {
    "kernelspec": {
      "display_name": "Python 3",
      "name": "python3"
    },
    "language_info": {
      "codemirror_mode": {
        "name": "ipython",
        "version": 3
      },
      "file_extension": ".py",
      "mimetype": "text/x-python",
      "name": "python",
      "nbconvert_exporter": "python",
      "pygments_lexer": "ipython3",
      "version": "3.7.11"
    },
    "colab": {
      "provenance": [],
      "gpuType": "T4",
      "include_colab_link": true
    },
    "accelerator": "GPU"
  },
  "nbformat": 4,
  "nbformat_minor": 0
}